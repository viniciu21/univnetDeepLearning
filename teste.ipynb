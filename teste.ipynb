{
 "cells": [
  {
   "cell_type": "code",
   "execution_count": 2,
   "metadata": {},
   "outputs": [
    {
     "name": "stdout",
     "output_type": "stream",
     "text": [
      "torch.Size([3, 4, 8])\n"
     ]
    }
   ],
   "source": [
    "import torch\n",
    "import torch.nn as nn\n",
    "\n",
    "# Input array of numbers\n",
    "input_array = [[1, 2, 3],\n",
    "               [4, 5, 6],\n",
    "               [7, 8, 9]]\n",
    "\n",
    "# Convert the input array to a PyTorch tensor\n",
    "input_tensor = torch.tensor(input_array)\n",
    "\n",
    "# Define the embedding layer\n",
    "embedding_dim = 4  # Dimensionality of the embedding\n",
    "vocab_size = 10  # Total number of unique numbers in the input array\n",
    "\n",
    "embedding_layer = nn.Embedding(vocab_size, embedding_dim)\n",
    "\n",
    "# Apply the embedding layer to the input tensor\n",
    "embedded_tensor = embedding_layer(input_tensor)\n",
    "\n",
    "# Define the upsampling factor\n",
    "upsample_factor = 2  # Upsampling factor for the sequence length\n",
    "\n",
    "# Define the ConvTranspose1d layer for upsampling\n",
    "in_channels = embedding_dim  # Number of input channels (equal to embedding_dim)\n",
    "out_channels = embedding_dim  # Number of output channels (equal to embedding_dim)\n",
    "kernel_size = upsample_factor * 2  # Size of the transposed convolution kernel\n",
    "\n",
    "conv_transpose_layer = nn.ConvTranspose1d(in_channels, out_channels, kernel_size, stride=upsample_factor)\n",
    "\n",
    "# Apply the ConvTranspose1d layer to the embedded tensor\n",
    "upsampled_tensor = conv_transpose_layer(embedded_tensor.permute(0, 2, 1))\n",
    "\n",
    "# Print the upsampled tensor\n",
    "print(upsampled_tensor.shape)"
   ]
  }
 ],
 "metadata": {
  "kernelspec": {
   "display_name": "Python 3",
   "language": "python",
   "name": "python3"
  },
  "language_info": {
   "codemirror_mode": {
    "name": "ipython",
    "version": 3
   },
   "file_extension": ".py",
   "mimetype": "text/x-python",
   "name": "python",
   "nbconvert_exporter": "python",
   "pygments_lexer": "ipython3",
   "version": "3.11.3"
  },
  "orig_nbformat": 4
 },
 "nbformat": 4,
 "nbformat_minor": 2
}
