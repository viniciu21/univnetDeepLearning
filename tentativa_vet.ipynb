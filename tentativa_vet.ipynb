{
 "cells": [
  {
   "cell_type": "code",
   "execution_count": 1,
   "id": "1bfd598f",
   "metadata": {},
   "outputs": [
    {
     "name": "stdout",
     "output_type": "stream",
     "text": [
      "False\n"
     ]
    }
   ],
   "source": [
    "import torch\n",
    "import numpy as np\n",
    "from scipy.special import softmax\n",
    "import os\n",
    "\n",
    "print(torch.cuda.is_available())\n"
   ]
  },
  {
   "cell_type": "code",
   "execution_count": 2,
   "id": "4a58d3b2",
   "metadata": {},
   "outputs": [],
   "source": [
    "#criar uma variavel definida no caminho para o arquivo que selecione somente o .pth\n",
    "\n",
    "def get_pth_files(dataset_path):\n",
    "    pth_files = []\n",
    "    for root, dirs, files in os.walk(dataset_path):\n",
    "        for file in files:\n",
    "            if file.endswith(\".pth\"):\n",
    "                pth_files.append(os.path.join(root, file))\n",
    "    return pth_files\n",
    "\n",
    "dataset_path = \"C:/Users/017597631/Documents/transform-speech-codes-into-speech-signal/audiocodes2speech_dim0494/train\";\n",
    "pth_files = get_pth_files(dataset_path)\n",
    "\n"
   ]
  },
  {
   "cell_type": "code",
   "execution_count": 3,
   "id": "5ea09ff7",
   "metadata": {},
   "outputs": [],
   "source": [
    "for pth_file in pth_files:\n",
    "    codes = torch.load(pth_file, map_location='cpu')\n",
    "    \n",
    "    "
   ]
  },
  {
   "cell_type": "code",
   "execution_count": 4,
   "id": "9ab800b4",
   "metadata": {},
   "outputs": [],
   "source": [
    " # Código para processar os embeddings colocar dentro do for para iterar todos os arquivos\n",
    "embedding_dim = 1024  # Dimensionality of the embedding\n",
    "vocab_size = 8194  # Total number of unique numbers in the input array\n",
    "\n",
    "\n",
    "emb_layer = torch.nn.Embedding(vocab_size, embedding_dim)\n",
    "\n",
    "\n",
    "embeddings = emb_layer(codes)\n"
   ]
  },
  {
   "cell_type": "code",
   "execution_count": 5,
   "id": "f0f30e8d",
   "metadata": {},
   "outputs": [
    {
     "name": "stdout",
     "output_type": "stream",
     "text": [
      "torch.Size([1, 355, 1024])\n"
     ]
    }
   ],
   "source": [
    "embeddingsNp = embeddings.detach().numpy()\n",
    "t = torch.from_numpy(embeddingsNp);\n",
    "#t = t.unsqueeze(0)\n",
    "print(t.shape)"
   ]
  },
  {
   "cell_type": "code",
   "execution_count": 6,
   "id": "c9dad8ac",
   "metadata": {},
   "outputs": [],
   "source": [
    "upsample_factor = 2  # Upsampling factor for the sequence length\n",
    "\n",
    "in_channels = embedding_dim  # Number of input channels (equal to embedding_dim)\n",
    "out_channels = embedding_dim  # Number of output channels (equal to embedding_dim)\n",
    "kernel_size = upsample_factor * 2  # Size of the transposed convolution kernel\n",
    "\n",
    "upsampler = torch.nn.ConvTranspose1d(in_channels, out_channels, kernel_size, stride=upsample_factor);\n",
    "\n",
    "upsampler.weight.requires_grad = False; \n",
    "upsamplerp2 = torch.nn.ConvTranspose1d(in_channels, out_channels, kernel_size, stride=upsample_factor);\n",
    "\n",
    "# upsamplerp2.weight.requires_grad = False; \n"
   ]
  },
  {
   "cell_type": "code",
   "execution_count": 7,
   "id": "64e8f4ec",
   "metadata": {},
   "outputs": [
    {
     "name": "stdout",
     "output_type": "stream",
     "text": [
      "torch.Size([1, 355, 1024])\n",
      "torch.Size([1, 355, 1024])\n"
     ]
    }
   ],
   "source": [
    "print(t.shape)\n",
    "upsamplerEmbeddings = upsampler(t.permute(0, 2, 1))\n",
    "print(t.shape)\n",
    "\n",
    "#upsamplerEmbeddingsp2 = upsamplerp2(upsamplerEmbeddings)"
   ]
  },
  {
   "cell_type": "code",
   "execution_count": 12,
   "id": "86d0ac2f",
   "metadata": {},
   "outputs": [
    {
     "name": "stdout",
     "output_type": "stream",
     "text": [
      "torch.Size([1, 1426, 1024])\n"
     ]
    }
   ],
   "source": [
    "upsamplerEmbeddings = upsamplerEmbeddings.permute(0, 2, 1)\n",
    "\n",
    "upsamplerEmbeddingsp2 = upsampler(upsamplerEmbeddings.permute(0, 2, 1))\n",
    "\n",
    "upsamplerEmbeddingsp2 = upsamplerEmbeddingsp2.permute(0, 2, 1)\n"
   ]
  },
  {
   "cell_type": "code",
   "execution_count": 14,
   "id": "8a81434d",
   "metadata": {},
   "outputs": [
    {
     "name": "stdout",
     "output_type": "stream",
     "text": [
      "torch.Size([1, 355, 1024])\n",
      "torch.Size([1, 712, 1024])\n",
      "torch.Size([1, 1426, 1024])\n"
     ]
    }
   ],
   "source": [
    "print(t.shape)\n",
    "print(upsamplerEmbeddings.shape)\n",
    "print(upsamplerEmbeddingsp2.shape)\n"
   ]
  },
  {
   "cell_type": "code",
   "execution_count": null,
   "id": "9d9c9a2c",
   "metadata": {},
   "outputs": [],
   "source": [
    " #embeddings = upsamplerEmbeddingsp2.detach().numpy()\n",
    "    # Modifique o nome do arquivo .pth para .emb\n",
    "   # emb_file = pth_file[:-4] + \".emb\""
   ]
  },
  {
   "cell_type": "code",
   "execution_count": 38,
   "id": "bef067f2",
   "metadata": {},
   "outputs": [],
   "source": [
    "# Modifique o nome do arquivo .pth para .emb\n",
    "emb_file = pth_file[:-4] + \".emb\""
   ]
  },
  {
   "cell_type": "code",
   "execution_count": 39,
   "id": "f4c09f59",
   "metadata": {},
   "outputs": [],
   "source": [
    "\n",
    "np.save(emb_file, embeddings)"
   ]
  },
  {
   "cell_type": "code",
   "execution_count": 40,
   "id": "1642f925",
   "metadata": {},
   "outputs": [
    {
     "name": "stdout",
     "output_type": "stream",
     "text": [
      "Embeddings salvos em /home/rafaelrosendo/Pytorch_trabs/audiocodes2speech_dim0494/train/JornalNacional_02_00407.emb\n",
      "\n"
     ]
    }
   ],
   "source": [
    "print(\"Embeddings salvos em\", emb_file)\n",
    "print()\n",
    "\n",
    "\n",
    "#esse notebook vai virar uma classe dentro do upsampler e por vez vai entrar dentro do gerador do univnet\n",
    "#"
   ]
  },
  {
   "cell_type": "code",
   "execution_count": 8,
   "id": "9b89947b",
   "metadata": {},
   "outputs": [],
   "source": [
    "# Código para processar os embeddings\n",
    "\n",
    "#codes = codes.long()\n",
    "#embeddings = emb_layer(codes)\n"
   ]
  },
  {
   "cell_type": "code",
   "execution_count": 13,
   "id": "00dff9ff",
   "metadata": {},
   "outputs": [
    {
     "name": "stdout",
     "output_type": "stream",
     "text": [
      "tensor([[[-0.8015,  1.3208, -1.3652,  ...,  0.2471, -0.5878,  0.0534],\n",
      "         [-0.5579, -0.2432, -0.2839,  ...,  1.9700,  0.3872,  1.0737],\n",
      "         [-0.5579, -0.2432, -0.2839,  ...,  1.9700,  0.3872,  1.0737],\n",
      "         ...,\n",
      "         [-0.8015,  1.3208, -1.3652,  ...,  0.2471, -0.5878,  0.0534],\n",
      "         [ 1.6258, -0.7360,  0.4105,  ..., -0.7443,  0.3402,  1.2592],\n",
      "         [ 0.5727, -0.0535,  0.3129,  ..., -0.0612, -0.4165, -1.1371]]],\n",
      "       grad_fn=<EmbeddingBackward0>)\n"
     ]
    }
   ],
   "source": [
    "print(embeddings)"
   ]
  }
 ],
 "metadata": {
  "kernelspec": {
   "display_name": "Python 3",
   "language": "python",
   "name": "python3"
  },
  "language_info": {
   "codemirror_mode": {
    "name": "ipython",
    "version": 3
   },
   "file_extension": ".py",
   "mimetype": "text/x-python",
   "name": "python",
   "nbconvert_exporter": "python",
   "pygments_lexer": "ipython3",
   "version": "3.11.3"
  }
 },
 "nbformat": 4,
 "nbformat_minor": 5
}
